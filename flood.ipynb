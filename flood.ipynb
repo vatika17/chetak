{
 "cells": [
  {
   "cell_type": "markdown",
   "metadata": {},
   "source": [
    "# Flood prediction Model"
   ]
  },
  {
   "cell_type": "code",
   "execution_count": 1,
   "metadata": {},
   "outputs": [],
   "source": [
    "#Import some basic libraries\n",
    "import numpy as np\n",
    "import pandas as pd"
   ]
  },
  {
   "cell_type": "markdown",
   "metadata": {},
   "source": [
    "# Data Insight"
   ]
  },
  {
   "cell_type": "code",
   "execution_count": 2,
   "metadata": {},
   "outputs": [
    {
     "data": {
      "text/html": [
       "<div>\n",
       "<style scoped>\n",
       "    .dataframe tbody tr th:only-of-type {\n",
       "        vertical-align: middle;\n",
       "    }\n",
       "\n",
       "    .dataframe tbody tr th {\n",
       "        vertical-align: top;\n",
       "    }\n",
       "\n",
       "    .dataframe thead th {\n",
       "        text-align: right;\n",
       "    }\n",
       "</style>\n",
       "<table border=\"1\" class=\"dataframe\">\n",
       "  <thead>\n",
       "    <tr style=\"text-align: right;\">\n",
       "      <th></th>\n",
       "      <th>SUBDIVISION</th>\n",
       "      <th>YEAR</th>\n",
       "      <th>JAN</th>\n",
       "      <th>FEB</th>\n",
       "      <th>MAR</th>\n",
       "      <th>APR</th>\n",
       "      <th>MAY</th>\n",
       "      <th>JUN</th>\n",
       "      <th>JUL</th>\n",
       "      <th>AUG</th>\n",
       "      <th>SEP</th>\n",
       "      <th>OCT</th>\n",
       "      <th>NOV</th>\n",
       "      <th>DEC</th>\n",
       "      <th>ANNUAL RAINFALL</th>\n",
       "      <th>FLOODS</th>\n",
       "    </tr>\n",
       "  </thead>\n",
       "  <tbody>\n",
       "    <tr>\n",
       "      <th>0</th>\n",
       "      <td>KERALA</td>\n",
       "      <td>1901</td>\n",
       "      <td>28.7</td>\n",
       "      <td>44.7</td>\n",
       "      <td>51.6</td>\n",
       "      <td>160.0</td>\n",
       "      <td>174.7</td>\n",
       "      <td>824.6</td>\n",
       "      <td>743.0</td>\n",
       "      <td>357.5</td>\n",
       "      <td>197.7</td>\n",
       "      <td>266.9</td>\n",
       "      <td>350.8</td>\n",
       "      <td>48.4</td>\n",
       "      <td>3248.6</td>\n",
       "      <td>YES</td>\n",
       "    </tr>\n",
       "    <tr>\n",
       "      <th>1</th>\n",
       "      <td>KERALA</td>\n",
       "      <td>1902</td>\n",
       "      <td>6.7</td>\n",
       "      <td>2.6</td>\n",
       "      <td>57.3</td>\n",
       "      <td>83.9</td>\n",
       "      <td>134.5</td>\n",
       "      <td>390.9</td>\n",
       "      <td>1205.0</td>\n",
       "      <td>315.8</td>\n",
       "      <td>491.6</td>\n",
       "      <td>358.4</td>\n",
       "      <td>158.3</td>\n",
       "      <td>121.5</td>\n",
       "      <td>3326.6</td>\n",
       "      <td>YES</td>\n",
       "    </tr>\n",
       "    <tr>\n",
       "      <th>2</th>\n",
       "      <td>KERALA</td>\n",
       "      <td>1903</td>\n",
       "      <td>3.2</td>\n",
       "      <td>18.6</td>\n",
       "      <td>3.1</td>\n",
       "      <td>83.6</td>\n",
       "      <td>249.7</td>\n",
       "      <td>558.6</td>\n",
       "      <td>1022.5</td>\n",
       "      <td>420.2</td>\n",
       "      <td>341.8</td>\n",
       "      <td>354.1</td>\n",
       "      <td>157.0</td>\n",
       "      <td>59.0</td>\n",
       "      <td>3271.2</td>\n",
       "      <td>YES</td>\n",
       "    </tr>\n",
       "    <tr>\n",
       "      <th>3</th>\n",
       "      <td>KERALA</td>\n",
       "      <td>1904</td>\n",
       "      <td>23.7</td>\n",
       "      <td>3.0</td>\n",
       "      <td>32.2</td>\n",
       "      <td>71.5</td>\n",
       "      <td>235.7</td>\n",
       "      <td>1098.2</td>\n",
       "      <td>725.5</td>\n",
       "      <td>351.8</td>\n",
       "      <td>222.7</td>\n",
       "      <td>328.1</td>\n",
       "      <td>33.9</td>\n",
       "      <td>3.3</td>\n",
       "      <td>3129.7</td>\n",
       "      <td>YES</td>\n",
       "    </tr>\n",
       "    <tr>\n",
       "      <th>4</th>\n",
       "      <td>KERALA</td>\n",
       "      <td>1905</td>\n",
       "      <td>1.2</td>\n",
       "      <td>22.3</td>\n",
       "      <td>9.4</td>\n",
       "      <td>105.9</td>\n",
       "      <td>263.3</td>\n",
       "      <td>850.2</td>\n",
       "      <td>520.5</td>\n",
       "      <td>293.6</td>\n",
       "      <td>217.2</td>\n",
       "      <td>383.5</td>\n",
       "      <td>74.4</td>\n",
       "      <td>0.2</td>\n",
       "      <td>2741.6</td>\n",
       "      <td>NO</td>\n",
       "    </tr>\n",
       "  </tbody>\n",
       "</table>\n",
       "</div>"
      ],
      "text/plain": [
       "  SUBDIVISION  YEAR   JAN   FEB   MAR    APR    MAY     JUN     JUL    AUG  \\\n",
       "0      KERALA  1901  28.7  44.7  51.6  160.0  174.7   824.6   743.0  357.5   \n",
       "1      KERALA  1902   6.7   2.6  57.3   83.9  134.5   390.9  1205.0  315.8   \n",
       "2      KERALA  1903   3.2  18.6   3.1   83.6  249.7   558.6  1022.5  420.2   \n",
       "3      KERALA  1904  23.7   3.0  32.2   71.5  235.7  1098.2   725.5  351.8   \n",
       "4      KERALA  1905   1.2  22.3   9.4  105.9  263.3   850.2   520.5  293.6   \n",
       "\n",
       "     SEP    OCT    NOV    DEC   ANNUAL RAINFALL FLOODS  \n",
       "0  197.7  266.9  350.8   48.4            3248.6    YES  \n",
       "1  491.6  358.4  158.3  121.5            3326.6    YES  \n",
       "2  341.8  354.1  157.0   59.0            3271.2    YES  \n",
       "3  222.7  328.1   33.9    3.3            3129.7    YES  \n",
       "4  217.2  383.5   74.4    0.2            2741.6     NO  "
      ]
     },
     "execution_count": 2,
     "metadata": {},
     "output_type": "execute_result"
    }
   ],
   "source": [
    "#Read the data present in dataset\n",
    "data = pd.read_csv('kerala.csv')\n",
    "#Using data.head() we can see the top 5 rows of the dataset\n",
    "data.head()"
   ]
  },
  {
   "cell_type": "code",
   "execution_count": 3,
   "metadata": {},
   "outputs": [
    {
     "data": {
      "text/plain": [
       "SUBDIVISION         0\n",
       "YEAR                0\n",
       "JAN                 0\n",
       "FEB                 0\n",
       "MAR                 0\n",
       "APR                 0\n",
       "MAY                 0\n",
       "JUN                 0\n",
       "JUL                 0\n",
       "AUG                 0\n",
       "SEP                 0\n",
       "OCT                 0\n",
       "NOV                 0\n",
       "DEC                 0\n",
       " ANNUAL RAINFALL    0\n",
       "FLOODS              0\n",
       "dtype: int64"
      ]
     },
     "execution_count": 3,
     "metadata": {},
     "output_type": "execute_result"
    }
   ],
   "source": [
    "#Now we will check if any colomns is left empty\n",
    "data.apply(lambda x:sum(x.isnull()), axis=0)"
   ]
  },
  {
   "cell_type": "code",
   "execution_count": 4,
   "metadata": {},
   "outputs": [],
   "source": [
    "#We want the data in numbers, therefore we will replace the yes/no in floods coloumn by 1/0\n",
    "data['FLOODS'].replace(['YES','NO'],[1,0],inplace=True)"
   ]
  },
  {
   "cell_type": "code",
   "execution_count": 5,
   "metadata": {},
   "outputs": [
    {
     "data": {
      "text/html": [
       "<div>\n",
       "<style scoped>\n",
       "    .dataframe tbody tr th:only-of-type {\n",
       "        vertical-align: middle;\n",
       "    }\n",
       "\n",
       "    .dataframe tbody tr th {\n",
       "        vertical-align: top;\n",
       "    }\n",
       "\n",
       "    .dataframe thead th {\n",
       "        text-align: right;\n",
       "    }\n",
       "</style>\n",
       "<table border=\"1\" class=\"dataframe\">\n",
       "  <thead>\n",
       "    <tr style=\"text-align: right;\">\n",
       "      <th></th>\n",
       "      <th>SUBDIVISION</th>\n",
       "      <th>YEAR</th>\n",
       "      <th>JAN</th>\n",
       "      <th>FEB</th>\n",
       "      <th>MAR</th>\n",
       "      <th>APR</th>\n",
       "      <th>MAY</th>\n",
       "      <th>JUN</th>\n",
       "      <th>JUL</th>\n",
       "      <th>AUG</th>\n",
       "      <th>SEP</th>\n",
       "      <th>OCT</th>\n",
       "      <th>NOV</th>\n",
       "      <th>DEC</th>\n",
       "      <th>ANNUAL RAINFALL</th>\n",
       "      <th>FLOODS</th>\n",
       "    </tr>\n",
       "  </thead>\n",
       "  <tbody>\n",
       "    <tr>\n",
       "      <th>0</th>\n",
       "      <td>KERALA</td>\n",
       "      <td>1901</td>\n",
       "      <td>28.7</td>\n",
       "      <td>44.7</td>\n",
       "      <td>51.6</td>\n",
       "      <td>160.0</td>\n",
       "      <td>174.7</td>\n",
       "      <td>824.6</td>\n",
       "      <td>743.0</td>\n",
       "      <td>357.5</td>\n",
       "      <td>197.7</td>\n",
       "      <td>266.9</td>\n",
       "      <td>350.8</td>\n",
       "      <td>48.4</td>\n",
       "      <td>3248.6</td>\n",
       "      <td>1</td>\n",
       "    </tr>\n",
       "    <tr>\n",
       "      <th>1</th>\n",
       "      <td>KERALA</td>\n",
       "      <td>1902</td>\n",
       "      <td>6.7</td>\n",
       "      <td>2.6</td>\n",
       "      <td>57.3</td>\n",
       "      <td>83.9</td>\n",
       "      <td>134.5</td>\n",
       "      <td>390.9</td>\n",
       "      <td>1205.0</td>\n",
       "      <td>315.8</td>\n",
       "      <td>491.6</td>\n",
       "      <td>358.4</td>\n",
       "      <td>158.3</td>\n",
       "      <td>121.5</td>\n",
       "      <td>3326.6</td>\n",
       "      <td>1</td>\n",
       "    </tr>\n",
       "    <tr>\n",
       "      <th>2</th>\n",
       "      <td>KERALA</td>\n",
       "      <td>1903</td>\n",
       "      <td>3.2</td>\n",
       "      <td>18.6</td>\n",
       "      <td>3.1</td>\n",
       "      <td>83.6</td>\n",
       "      <td>249.7</td>\n",
       "      <td>558.6</td>\n",
       "      <td>1022.5</td>\n",
       "      <td>420.2</td>\n",
       "      <td>341.8</td>\n",
       "      <td>354.1</td>\n",
       "      <td>157.0</td>\n",
       "      <td>59.0</td>\n",
       "      <td>3271.2</td>\n",
       "      <td>1</td>\n",
       "    </tr>\n",
       "    <tr>\n",
       "      <th>3</th>\n",
       "      <td>KERALA</td>\n",
       "      <td>1904</td>\n",
       "      <td>23.7</td>\n",
       "      <td>3.0</td>\n",
       "      <td>32.2</td>\n",
       "      <td>71.5</td>\n",
       "      <td>235.7</td>\n",
       "      <td>1098.2</td>\n",
       "      <td>725.5</td>\n",
       "      <td>351.8</td>\n",
       "      <td>222.7</td>\n",
       "      <td>328.1</td>\n",
       "      <td>33.9</td>\n",
       "      <td>3.3</td>\n",
       "      <td>3129.7</td>\n",
       "      <td>1</td>\n",
       "    </tr>\n",
       "    <tr>\n",
       "      <th>4</th>\n",
       "      <td>KERALA</td>\n",
       "      <td>1905</td>\n",
       "      <td>1.2</td>\n",
       "      <td>22.3</td>\n",
       "      <td>9.4</td>\n",
       "      <td>105.9</td>\n",
       "      <td>263.3</td>\n",
       "      <td>850.2</td>\n",
       "      <td>520.5</td>\n",
       "      <td>293.6</td>\n",
       "      <td>217.2</td>\n",
       "      <td>383.5</td>\n",
       "      <td>74.4</td>\n",
       "      <td>0.2</td>\n",
       "      <td>2741.6</td>\n",
       "      <td>0</td>\n",
       "    </tr>\n",
       "  </tbody>\n",
       "</table>\n",
       "</div>"
      ],
      "text/plain": [
       "  SUBDIVISION  YEAR   JAN   FEB   MAR    APR    MAY     JUN     JUL    AUG  \\\n",
       "0      KERALA  1901  28.7  44.7  51.6  160.0  174.7   824.6   743.0  357.5   \n",
       "1      KERALA  1902   6.7   2.6  57.3   83.9  134.5   390.9  1205.0  315.8   \n",
       "2      KERALA  1903   3.2  18.6   3.1   83.6  249.7   558.6  1022.5  420.2   \n",
       "3      KERALA  1904  23.7   3.0  32.2   71.5  235.7  1098.2   725.5  351.8   \n",
       "4      KERALA  1905   1.2  22.3   9.4  105.9  263.3   850.2   520.5  293.6   \n",
       "\n",
       "     SEP    OCT    NOV    DEC   ANNUAL RAINFALL  FLOODS  \n",
       "0  197.7  266.9  350.8   48.4            3248.6       1  \n",
       "1  491.6  358.4  158.3  121.5            3326.6       1  \n",
       "2  341.8  354.1  157.0   59.0            3271.2       1  \n",
       "3  222.7  328.1   33.9    3.3            3129.7       1  \n",
       "4  217.2  383.5   74.4    0.2            2741.6       0  "
      ]
     },
     "execution_count": 5,
     "metadata": {},
     "output_type": "execute_result"
    }
   ],
   "source": [
    "#Let's see how our data looks like now\n",
    "data.head()"
   ]
  },
  {
   "cell_type": "code",
   "execution_count": 6,
   "metadata": {},
   "outputs": [
    {
     "data": {
      "text/html": [
       "<div>\n",
       "<style scoped>\n",
       "    .dataframe tbody tr th:only-of-type {\n",
       "        vertical-align: middle;\n",
       "    }\n",
       "\n",
       "    .dataframe tbody tr th {\n",
       "        vertical-align: top;\n",
       "    }\n",
       "\n",
       "    .dataframe thead th {\n",
       "        text-align: right;\n",
       "    }\n",
       "</style>\n",
       "<table border=\"1\" class=\"dataframe\">\n",
       "  <thead>\n",
       "    <tr style=\"text-align: right;\">\n",
       "      <th></th>\n",
       "      <th>YEAR</th>\n",
       "      <th>JAN</th>\n",
       "      <th>FEB</th>\n",
       "      <th>MAR</th>\n",
       "      <th>APR</th>\n",
       "      <th>MAY</th>\n",
       "      <th>JUN</th>\n",
       "      <th>JUL</th>\n",
       "      <th>AUG</th>\n",
       "      <th>SEP</th>\n",
       "      <th>OCT</th>\n",
       "      <th>NOV</th>\n",
       "      <th>DEC</th>\n",
       "    </tr>\n",
       "  </thead>\n",
       "  <tbody>\n",
       "    <tr>\n",
       "      <th>0</th>\n",
       "      <td>1901</td>\n",
       "      <td>28.7</td>\n",
       "      <td>44.7</td>\n",
       "      <td>51.6</td>\n",
       "      <td>160.0</td>\n",
       "      <td>174.7</td>\n",
       "      <td>824.6</td>\n",
       "      <td>743.0</td>\n",
       "      <td>357.5</td>\n",
       "      <td>197.7</td>\n",
       "      <td>266.9</td>\n",
       "      <td>350.8</td>\n",
       "      <td>48.4</td>\n",
       "    </tr>\n",
       "    <tr>\n",
       "      <th>1</th>\n",
       "      <td>1902</td>\n",
       "      <td>6.7</td>\n",
       "      <td>2.6</td>\n",
       "      <td>57.3</td>\n",
       "      <td>83.9</td>\n",
       "      <td>134.5</td>\n",
       "      <td>390.9</td>\n",
       "      <td>1205.0</td>\n",
       "      <td>315.8</td>\n",
       "      <td>491.6</td>\n",
       "      <td>358.4</td>\n",
       "      <td>158.3</td>\n",
       "      <td>121.5</td>\n",
       "    </tr>\n",
       "    <tr>\n",
       "      <th>2</th>\n",
       "      <td>1903</td>\n",
       "      <td>3.2</td>\n",
       "      <td>18.6</td>\n",
       "      <td>3.1</td>\n",
       "      <td>83.6</td>\n",
       "      <td>249.7</td>\n",
       "      <td>558.6</td>\n",
       "      <td>1022.5</td>\n",
       "      <td>420.2</td>\n",
       "      <td>341.8</td>\n",
       "      <td>354.1</td>\n",
       "      <td>157.0</td>\n",
       "      <td>59.0</td>\n",
       "    </tr>\n",
       "    <tr>\n",
       "      <th>3</th>\n",
       "      <td>1904</td>\n",
       "      <td>23.7</td>\n",
       "      <td>3.0</td>\n",
       "      <td>32.2</td>\n",
       "      <td>71.5</td>\n",
       "      <td>235.7</td>\n",
       "      <td>1098.2</td>\n",
       "      <td>725.5</td>\n",
       "      <td>351.8</td>\n",
       "      <td>222.7</td>\n",
       "      <td>328.1</td>\n",
       "      <td>33.9</td>\n",
       "      <td>3.3</td>\n",
       "    </tr>\n",
       "    <tr>\n",
       "      <th>4</th>\n",
       "      <td>1905</td>\n",
       "      <td>1.2</td>\n",
       "      <td>22.3</td>\n",
       "      <td>9.4</td>\n",
       "      <td>105.9</td>\n",
       "      <td>263.3</td>\n",
       "      <td>850.2</td>\n",
       "      <td>520.5</td>\n",
       "      <td>293.6</td>\n",
       "      <td>217.2</td>\n",
       "      <td>383.5</td>\n",
       "      <td>74.4</td>\n",
       "      <td>0.2</td>\n",
       "    </tr>\n",
       "  </tbody>\n",
       "</table>\n",
       "</div>"
      ],
      "text/plain": [
       "   YEAR   JAN   FEB   MAR    APR    MAY     JUN     JUL    AUG    SEP    OCT  \\\n",
       "0  1901  28.7  44.7  51.6  160.0  174.7   824.6   743.0  357.5  197.7  266.9   \n",
       "1  1902   6.7   2.6  57.3   83.9  134.5   390.9  1205.0  315.8  491.6  358.4   \n",
       "2  1903   3.2  18.6   3.1   83.6  249.7   558.6  1022.5  420.2  341.8  354.1   \n",
       "3  1904  23.7   3.0  32.2   71.5  235.7  1098.2   725.5  351.8  222.7  328.1   \n",
       "4  1905   1.2  22.3   9.4  105.9  263.3   850.2   520.5  293.6  217.2  383.5   \n",
       "\n",
       "     NOV    DEC  \n",
       "0  350.8   48.4  \n",
       "1  158.3  121.5  \n",
       "2  157.0   59.0  \n",
       "3   33.9    3.3  \n",
       "4   74.4    0.2  "
      ]
     },
     "execution_count": 6,
     "metadata": {},
     "output_type": "execute_result"
    }
   ],
   "source": [
    "#Now let's seperate the data which we are gonna use for prediction\n",
    "x = data.iloc[:,1:14]\n",
    "x.head()"
   ]
  },
  {
   "cell_type": "code",
   "execution_count": 7,
   "metadata": {},
   "outputs": [
    {
     "data": {
      "text/plain": [
       "0    1\n",
       "1    1\n",
       "2    1\n",
       "3    1\n",
       "4    0\n",
       "Name: FLOODS, dtype: int64"
      ]
     },
     "execution_count": 7,
     "metadata": {},
     "output_type": "execute_result"
    }
   ],
   "source": [
    "#Now seperate the flood label from the dataset\n",
    "y = data.iloc[:, -1]\n",
    "y.head()"
   ]
  },
  {
   "cell_type": "code",
   "execution_count": 8,
   "metadata": {},
   "outputs": [
    {
     "data": {
      "image/png": "[encoded data removed]",
      "text/plain": [
       "<Figure size 640x480 with 4 Axes>"
      ]
     },
     "metadata": {},
     "output_type": "display_data"
    }
   ],
   "source": [
    "#Let's see how the rainfall index vary during rainy season\n",
    "import matplotlib.pyplot as plt\n",
    "%matplotlib inline\n",
    "c = data[['JUN','JUL','AUG','SEP']]\n",
    "c.hist()\n",
    "plt.show()"
   ]
  },
  {
   "cell_type": "code",
   "execution_count": 9,
   "metadata": {},
   "outputs": [
    {
     "data": {
      "text/plain": [
       "array([[0.        , 0.34371257, 0.56582278, ..., 0.39727673, 0.95570189,\n",
       "        0.2388724 ],\n",
       "       [0.00854701, 0.08023952, 0.03291139, ..., 0.5804966 , 0.37952709,\n",
       "        0.60039565],\n",
       "       [0.01709402, 0.03832335, 0.23544304, ..., 0.57188626, 0.37563604,\n",
       "        0.29129575],\n",
       "       ...,\n",
       "       [0.98290598, 0.02874251, 0.04810127, ..., 0.31517821, 0.28105358,\n",
       "        0.11622156],\n",
       "       [0.99145299, 0.02275449, 0.08607595, ..., 0.24809772, 0.18258007,\n",
       "        0.18793274],\n",
       "       [1.        , 0.34850299, 0.65949367, ..., 0.57589107, 0.28105358,\n",
       "        0.3214639 ]])"
      ]
     },
     "execution_count": 9,
     "metadata": {},
     "output_type": "execute_result"
    }
   ],
   "source": [
    "#Data might be widely distributed so let's scale it between 0 and 1\n",
    "from sklearn import preprocessing\n",
    "minmax = preprocessing.MinMaxScaler(feature_range=(0,1))\n",
    "minmax.fit(x).transform(x)"
   ]
  },
  {
   "cell_type": "code",
   "execution_count": 10,
   "metadata": {},
   "outputs": [],
   "source": [
    "#Let's divide the dataset into 2 sets:train and test in ratio (4:1)\n",
    "from sklearn import model_selection,neighbors\n",
    "from sklearn.model_selection import train_test_split\n",
    "x_train,x_test,y_train,y_test=train_test_split(x,y,test_size=0.2)"
   ]
  },
  {
   "cell_type": "code",
   "execution_count": 11,
   "metadata": {},
   "outputs": [
    {
     "data": {
      "text/html": [
       "<div>\n",
       "<style scoped>\n",
       "    .dataframe tbody tr th:only-of-type {\n",
       "        vertical-align: middle;\n",
       "    }\n",
       "\n",
       "    .dataframe tbody tr th {\n",
       "        vertical-align: top;\n",
       "    }\n",
       "\n",
       "    .dataframe thead th {\n",
       "        text-align: right;\n",
       "    }\n",
       "</style>\n",
       "<table border=\"1\" class=\"dataframe\">\n",
       "  <thead>\n",
       "    <tr style=\"text-align: right;\">\n",
       "      <th></th>\n",
       "      <th>YEAR</th>\n",
       "      <th>JAN</th>\n",
       "      <th>FEB</th>\n",
       "      <th>MAR</th>\n",
       "      <th>APR</th>\n",
       "      <th>MAY</th>\n",
       "      <th>JUN</th>\n",
       "      <th>JUL</th>\n",
       "      <th>AUG</th>\n",
       "      <th>SEP</th>\n",
       "      <th>OCT</th>\n",
       "      <th>NOV</th>\n",
       "      <th>DEC</th>\n",
       "    </tr>\n",
       "  </thead>\n",
       "  <tbody>\n",
       "    <tr>\n",
       "      <th>3</th>\n",
       "      <td>1904</td>\n",
       "      <td>23.7</td>\n",
       "      <td>3.0</td>\n",
       "      <td>32.2</td>\n",
       "      <td>71.5</td>\n",
       "      <td>235.7</td>\n",
       "      <td>1098.2</td>\n",
       "      <td>725.5</td>\n",
       "      <td>351.8</td>\n",
       "      <td>222.7</td>\n",
       "      <td>328.1</td>\n",
       "      <td>33.9</td>\n",
       "      <td>3.3</td>\n",
       "    </tr>\n",
       "    <tr>\n",
       "      <th>4</th>\n",
       "      <td>1905</td>\n",
       "      <td>1.2</td>\n",
       "      <td>22.3</td>\n",
       "      <td>9.4</td>\n",
       "      <td>105.9</td>\n",
       "      <td>263.3</td>\n",
       "      <td>850.2</td>\n",
       "      <td>520.5</td>\n",
       "      <td>293.6</td>\n",
       "      <td>217.2</td>\n",
       "      <td>383.5</td>\n",
       "      <td>74.4</td>\n",
       "      <td>0.2</td>\n",
       "    </tr>\n",
       "    <tr>\n",
       "      <th>62</th>\n",
       "      <td>1963</td>\n",
       "      <td>30.2</td>\n",
       "      <td>24.8</td>\n",
       "      <td>69.8</td>\n",
       "      <td>96.3</td>\n",
       "      <td>157.1</td>\n",
       "      <td>393.3</td>\n",
       "      <td>720.2</td>\n",
       "      <td>511.0</td>\n",
       "      <td>223.9</td>\n",
       "      <td>282.6</td>\n",
       "      <td>93.4</td>\n",
       "      <td>48.4</td>\n",
       "    </tr>\n",
       "    <tr>\n",
       "      <th>19</th>\n",
       "      <td>1920</td>\n",
       "      <td>35.2</td>\n",
       "      <td>5.5</td>\n",
       "      <td>24.1</td>\n",
       "      <td>172.0</td>\n",
       "      <td>87.7</td>\n",
       "      <td>964.3</td>\n",
       "      <td>940.8</td>\n",
       "      <td>235.0</td>\n",
       "      <td>178.0</td>\n",
       "      <td>350.1</td>\n",
       "      <td>302.3</td>\n",
       "      <td>8.2</td>\n",
       "    </tr>\n",
       "    <tr>\n",
       "      <th>40</th>\n",
       "      <td>1941</td>\n",
       "      <td>15.9</td>\n",
       "      <td>4.6</td>\n",
       "      <td>12.7</td>\n",
       "      <td>101.9</td>\n",
       "      <td>417.5</td>\n",
       "      <td>797.6</td>\n",
       "      <td>517.9</td>\n",
       "      <td>458.5</td>\n",
       "      <td>257.9</td>\n",
       "      <td>221.6</td>\n",
       "      <td>220.5</td>\n",
       "      <td>84.6</td>\n",
       "    </tr>\n",
       "  </tbody>\n",
       "</table>\n",
       "</div>"
      ],
      "text/plain": [
       "    YEAR   JAN   FEB   MAR    APR    MAY     JUN    JUL    AUG    SEP    OCT  \\\n",
       "3   1904  23.7   3.0  32.2   71.5  235.7  1098.2  725.5  351.8  222.7  328.1   \n",
       "4   1905   1.2  22.3   9.4  105.9  263.3   850.2  520.5  293.6  217.2  383.5   \n",
       "62  1963  30.2  24.8  69.8   96.3  157.1   393.3  720.2  511.0  223.9  282.6   \n",
       "19  1920  35.2   5.5  24.1  172.0   87.7   964.3  940.8  235.0  178.0  350.1   \n",
       "40  1941  15.9   4.6  12.7  101.9  417.5   797.6  517.9  458.5  257.9  221.6   \n",
       "\n",
       "      NOV   DEC  \n",
       "3    33.9   3.3  \n",
       "4    74.4   0.2  \n",
       "62   93.4  48.4  \n",
       "19  302.3   8.2  \n",
       "40  220.5  84.6  "
      ]
     },
     "execution_count": 11,
     "metadata": {},
     "output_type": "execute_result"
    }
   ],
   "source": [
    "#Let's see how our train set looks like\n",
    "x_train.head()"
   ]
  },
  {
   "cell_type": "code",
   "execution_count": 12,
   "metadata": {},
   "outputs": [
    {
     "data": {
      "text/plain": [
       "3     1\n",
       "4     0\n",
       "62    0\n",
       "19    1\n",
       "40    1\n",
       "Name: FLOODS, dtype: int64"
      ]
     },
     "execution_count": 12,
     "metadata": {},
     "output_type": "execute_result"
    }
   ],
   "source": [
    "y_train.head()"
   ]
  },
  {
   "cell_type": "markdown",
   "metadata": {},
   "source": [
    "# Prediction Algorithms:"
   ]
  },
  {
   "cell_type": "markdown",
   "metadata": {},
   "source": [
    "# 1. KNN Classifier"
   ]
  },
  {
   "cell_type": "code",
   "execution_count": 13,
   "metadata": {},
   "outputs": [],
   "source": [
    "clf = neighbors.KNeighborsClassifier()\n",
    "knn_clf = clf.fit(x_train,y_train)"
   ]
  },
  {
   "cell_type": "code",
   "execution_count": 14,
   "metadata": {
    "tags": []
   },
   "outputs": [
    {
     "name": "stdout",
     "output_type": "stream",
     "text": [
      "predicted chances of flood\n",
      "[1 0 0 1 1 1 0 1 0 1 1 1 0 0 1 0 0 1 0 0 0 0 0 1]\n"
     ]
    }
   ],
   "source": [
    "#Let's predict chances of flood\n",
    "y_predict = knn_clf.predict(x_test)\n",
    "print('predicted chances of flood')\n",
    "print(y_predict)"
   ]
  },
  {
   "cell_type": "code",
   "execution_count": 15,
   "metadata": {
    "tags": []
   },
   "outputs": [
    {
     "name": "stdout",
     "output_type": "stream",
     "text": [
      "actual values of floods:\n",
      "57     1\n",
      "116    0\n",
      "81     0\n",
      "74     1\n",
      "22     1\n",
      "112    1\n",
      "20     0\n",
      "110    1\n",
      "68     0\n",
      "26     1\n",
      "117    1\n",
      "35     1\n",
      "82     0\n",
      "44     0\n",
      "108    0\n",
      "12     0\n",
      "53     1\n",
      "11     1\n",
      "102    0\n",
      "100    0\n",
      "37     0\n",
      "66     0\n",
      "54     1\n",
      "48     1\n",
      "Name: FLOODS, dtype: int64\n"
     ]
    }
   ],
   "source": [
    "#Actual chances of flood\n",
    "print(\"actual values of floods:\")\n",
    "print(y_test)"
   ]
  },
  {
   "cell_type": "code",
   "execution_count": 16,
   "metadata": {},
   "outputs": [],
   "source": [
    "from sklearn.model_selection import cross_val_score"
   ]
  },
  {
   "cell_type": "code",
   "execution_count": 17,
   "metadata": {},
   "outputs": [],
   "source": [
    "knn_accuracy = cross_val_score(knn_clf,x_test,y_test,cv=3,scoring='accuracy',n_jobs=-1)"
   ]
  },
  {
   "cell_type": "code",
   "execution_count": 18,
   "metadata": {},
   "outputs": [
    {
     "data": {
      "text/plain": [
       "0.7916666666666666"
      ]
     },
     "execution_count": 18,
     "metadata": {},
     "output_type": "execute_result"
    }
   ],
   "source": [
    "knn_accuracy.mean()"
   ]
  },
  {
   "cell_type": "markdown",
   "metadata": {},
   "source": [
    "# 2. Logistic Regression"
   ]
  },
  {
   "cell_type": "code",
   "execution_count": 19,
   "metadata": {},
   "outputs": [],
   "source": [
    "x_train_std = minmax.fit_transform(x_train)\n",
    "x_test_std = minmax.transform(x_test)"
   ]
  },
  {
   "cell_type": "code",
   "execution_count": 20,
   "metadata": {},
   "outputs": [],
   "source": [
    "from sklearn.model_selection import cross_val_score\n",
    "from sklearn.linear_model import LogisticRegression\n",
    "\n",
    "lr = LogisticRegression()\n",
    "lr_clf = lr.fit(x_train_std,y_train)\n",
    "\n",
    "lr_accuracy = cross_val_score(lr_clf,x_test_std,y_test,cv=3,scoring='accuracy',n_jobs=-1)"
   ]
  },
  {
   "cell_type": "code",
   "execution_count": 21,
   "metadata": {},
   "outputs": [
    {
     "data": {
      "text/plain": [
       "0.6666666666666666"
      ]
     },
     "execution_count": 21,
     "metadata": {},
     "output_type": "execute_result"
    }
   ],
   "source": [
    "lr_accuracy.mean()"
   ]
  },
  {
   "cell_type": "code",
   "execution_count": 22,
   "metadata": {
    "tags": []
   },
   "outputs": [
    {
     "name": "stdout",
     "output_type": "stream",
     "text": [
      "Predicted chances of flood\n",
      "[0 0 0 1 1 1 0 1 0 1 1 1 0 0 0 0 0 1 0 0 0 0 1 1]\n"
     ]
    }
   ],
   "source": [
    "y_predict = lr_clf.predict(x_test_std)\n",
    "print('Predicted chances of flood')\n",
    "print(y_predict)"
   ]
  },
  {
   "cell_type": "code",
   "execution_count": 23,
   "metadata": {
    "tags": []
   },
   "outputs": [
    {
     "name": "stdout",
     "output_type": "stream",
     "text": [
      "Actual chances of flood\n",
      "[1 0 0 1 1 1 0 1 0 1 1 1 0 0 0 0 1 1 0 0 0 0 1 1]\n"
     ]
    }
   ],
   "source": [
    "print('Actual chances of flood')\n",
    "print(y_test.values)"
   ]
  },
  {
   "cell_type": "code",
   "execution_count": 24,
   "metadata": {
    "tags": []
   },
   "outputs": [
    {
     "name": "stdout",
     "output_type": "stream",
     "text": [
      "\n",
      "accuracy score: 91.666667\n",
      "recall score: 83.333333\n",
      "roc score: 91.666667\n"
     ]
    }
   ],
   "source": [
    "from sklearn.metrics import accuracy_score,recall_score,roc_auc_score,confusion_matrix\n",
    "print(\"\\naccuracy score: %f\"%(accuracy_score(y_test,y_predict)*100))\n",
    "print(\"recall score: %f\"%(recall_score(y_test,y_predict)*100))\n",
    "print(\"roc score: %f\"%(roc_auc_score(y_test,y_predict)*100))"
   ]
  },
  {
   "cell_type": "markdown",
   "metadata": {},
   "source": [
    "# 3. Decision tree classification"
   ]
  },
  {
   "cell_type": "code",
   "execution_count": 25,
   "metadata": {},
   "outputs": [
    {
     "data": {
      "text/plain": [
       "array([0.5625    , 0.67741935, 0.61290323])"
      ]
     },
     "execution_count": 25,
     "metadata": {},
     "output_type": "execute_result"
    }
   ],
   "source": [
    "from sklearn.tree import DecisionTreeClassifier\n",
    "dtc_clf = DecisionTreeClassifier()\n",
    "dtc_clf.fit(x_train,y_train)\n",
    "dtc_clf_acc = cross_val_score(dtc_clf,x_train_std,y_train,cv=3,scoring=\"accuracy\",n_jobs=-1)\n",
    "dtc_clf_acc"
   ]
  },
  {
   "cell_type": "code",
   "execution_count": 26,
   "metadata": {
    "tags": []
   },
   "outputs": [
    {
     "name": "stdout",
     "output_type": "stream",
     "text": [
      "[1 0 0 0 1 1 0 0 0 1 1 1 0 0 1 0 1 1 0 0 1 0 0 0]\n"
     ]
    }
   ],
   "source": [
    "#Predicted flood chances\n",
    "y_pred = dtc_clf.predict(x_test)\n",
    "print(y_pred)"
   ]
  },
  {
   "cell_type": "code",
   "execution_count": 27,
   "metadata": {
    "tags": []
   },
   "outputs": [
    {
     "name": "stdout",
     "output_type": "stream",
     "text": [
      "actual values:\n",
      "[1 0 0 1 1 1 0 1 0 1 1 1 0 0 0 0 1 1 0 0 0 0 1 1]\n"
     ]
    }
   ],
   "source": [
    "#Actual flood chances\n",
    "print(\"actual values:\")\n",
    "print(y_test.values)"
   ]
  },
  {
   "cell_type": "code",
   "execution_count": 28,
   "metadata": {
    "tags": []
   },
   "outputs": [
    {
     "name": "stdout",
     "output_type": "stream",
     "text": [
      "\n",
      "accuracy score:75.000000\n",
      "recall score:66.666667\n",
      "roc score:75.000000\n"
     ]
    }
   ],
   "source": [
    "from sklearn.metrics import accuracy_score,recall_score,roc_auc_score,confusion_matrix\n",
    "print(\"\\naccuracy score:%f\"%(accuracy_score(y_test,y_pred)*100))\n",
    "print(\"recall score:%f\"%(recall_score(y_test,y_pred)*100))\n",
    "print(\"roc score:%f\"%(roc_auc_score(y_test,y_pred)*100))"
   ]
  },
  {
   "cell_type": "markdown",
   "metadata": {},
   "source": [
    "# 4. Random Forest Classification"
   ]
  },
  {
   "cell_type": "code",
   "execution_count": 29,
   "metadata": {},
   "outputs": [
    {
     "data": {
      "text/html": [
       "<style>#sk-container-id-1 {color: black;background-color: white;}#sk-container-id-1 pre{padding: 0;}#sk-container-id-1 div.sk-toggleable {background-color: white;}#sk-container-id-1 label.sk-toggleable__label {cursor: pointer;display: block;width: 100%;margin-bottom: 0;padding: 0.3em;box-sizing: border-box;text-align: center;}#sk-container-id-1 label.sk-toggleable__label-arrow:before {content: \"▸\";float: left;margin-right: 0.25em;color: #696969;}#sk-container-id-1 label.sk-toggleable__label-arrow:hover:before {color: black;}#sk-container-id-1 div.sk-estimator:hover label.sk-toggleable__label-arrow:before {color: black;}#sk-container-id-1 div.sk-toggleable__content {max-height: 0;max-width: 0;overflow: hidden;text-align: left;background-color: #f0f8ff;}#sk-container-id-1 div.sk-toggleable__content pre {margin: 0.2em;color: black;border-radius: 0.25em;background-color: #f0f8ff;}#sk-container-id-1 input.sk-toggleable__control:checked~div.sk-toggleable__content {max-height: 200px;max-width: 100%;overflow: auto;}#sk-container-id-1 input.sk-toggleable__control:checked~label.sk-toggleable__label-arrow:before {content: \"▾\";}#sk-container-id-1 div.sk-estimator input.sk-toggleable__control:checked~label.sk-toggleable__label {background-color: #d4ebff;}#sk-container-id-1 div.sk-label input.sk-toggleable__control:checked~label.sk-toggleable__label {background-color: #d4ebff;}#sk-container-id-1 input.sk-hidden--visually {border: 0;clip: rect(1px 1px 1px 1px);clip: rect(1px, 1px, 1px, 1px);height: 1px;margin: -1px;overflow: hidden;padding: 0;position: absolute;width: 1px;}#sk-container-id-1 div.sk-estimator {font-family: monospace;background-color: #f0f8ff;border: 1px dotted black;border-radius: 0.25em;box-sizing: border-box;margin-bottom: 0.5em;}#sk-container-id-1 div.sk-estimator:hover {background-color: #d4ebff;}#sk-container-id-1 div.sk-parallel-item::after {content: \"\";width: 100%;border-bottom: 1px solid gray;flex-grow: 1;}#sk-container-id-1 div.sk-label:hover label.sk-toggleable__label {background-color: #d4ebff;}#sk-container-id-1 div.sk-serial::before {content: \"\";position: absolute;border-left: 1px solid gray;box-sizing: border-box;top: 0;bottom: 0;left: 50%;z-index: 0;}#sk-container-id-1 div.sk-serial {display: flex;flex-direction: column;align-items: center;background-color: white;padding-right: 0.2em;padding-left: 0.2em;position: relative;}#sk-container-id-1 div.sk-item {position: relative;z-index: 1;}#sk-container-id-1 div.sk-parallel {display: flex;align-items: stretch;justify-content: center;background-color: white;position: relative;}#sk-container-id-1 div.sk-item::before, #sk-container-id-1 div.sk-parallel-item::before {content: \"\";position: absolute;border-left: 1px solid gray;box-sizing: border-box;top: 0;bottom: 0;left: 50%;z-index: -1;}#sk-container-id-1 div.sk-parallel-item {display: flex;flex-direction: column;z-index: 1;position: relative;background-color: white;}#sk-container-id-1 div.sk-parallel-item:first-child::after {align-self: flex-end;width: 50%;}#sk-container-id-1 div.sk-parallel-item:last-child::after {align-self: flex-start;width: 50%;}#sk-container-id-1 div.sk-parallel-item:only-child::after {width: 0;}#sk-container-id-1 div.sk-dashed-wrapped {border: 1px dashed gray;margin: 0 0.4em 0.5em 0.4em;box-sizing: border-box;padding-bottom: 0.4em;background-color: white;}#sk-container-id-1 div.sk-label label {font-family: monospace;font-weight: bold;display: inline-block;line-height: 1.2em;}#sk-container-id-1 div.sk-label-container {text-align: center;}#sk-container-id-1 div.sk-container {/* jupyter's `normalize.less` sets `[hidden] { display: none; }` but bootstrap.min.css set `[hidden] { display: none !important; }` so we also need the `!important` here to be able to override the default hidden behavior on the sphinx rendered scikit-learn.org. See: https://github.com/scikit-learn/scikit-learn/issues/21755 */display: inline-block !important;position: relative;}#sk-container-id-1 div.sk-text-repr-fallback {display: none;}</style><div id=\"sk-container-id-1\" class=\"sk-top-container\"><div class=\"sk-text-repr-fallback\"><pre>RandomForestClassifier(max_depth=3, random_state=0)</pre><b>In a Jupyter environment, please rerun this cell to show the HTML representation or trust the notebook. <br />On GitHub, the HTML representation is unable to render, please try loading this page with nbviewer.org.</b></div><div class=\"sk-container\" hidden><div class=\"sk-item\"><div class=\"sk-estimator sk-toggleable\"><input class=\"sk-toggleable__control sk-hidden--visually\" id=\"sk-estimator-id-1\" type=\"checkbox\" checked><label for=\"sk-estimator-id-1\" class=\"sk-toggleable__label sk-toggleable__label-arrow\">RandomForestClassifier</label><div class=\"sk-toggleable__content\"><pre>RandomForestClassifier(max_depth=3, random_state=0)</pre></div></div></div></div></div>"
      ],
      "text/plain": [
       "RandomForestClassifier(max_depth=3, random_state=0)"
      ]
     },
     "execution_count": 29,
     "metadata": {},
     "output_type": "execute_result"
    }
   ],
   "source": [
    "from sklearn.ensemble import RandomForestClassifier\n",
    "rmf = RandomForestClassifier(max_depth=3,random_state=0)\n",
    "rmf_clf = rmf.fit(x_train,y_train)\n",
    "rmf_clf"
   ]
  },
  {
   "cell_type": "code",
   "execution_count": 30,
   "metadata": {},
   "outputs": [],
   "source": [
    "rmf_clf_acc = cross_val_score(rmf_clf,x_train_std,y_train,cv=3,scoring=\"accuracy\",n_jobs=-1)\n",
    "#rmf_proba = cross_val_predict(rmf_clf,x_train_std,y_train,cv=3,method='predict_proba')"
   ]
  },
  {
   "cell_type": "code",
   "execution_count": 31,
   "metadata": {},
   "outputs": [
    {
     "data": {
      "text/plain": [
       "array([0.75      , 0.80645161, 0.77419355])"
      ]
     },
     "execution_count": 31,
     "metadata": {},
     "output_type": "execute_result"
    }
   ],
   "source": [
    "rmf_clf_acc"
   ]
  },
  {
   "cell_type": "code",
   "execution_count": 32,
   "metadata": {},
   "outputs": [],
   "source": [
    "y_pred = rmf_clf.predict(x_test)"
   ]
  },
  {
   "cell_type": "code",
   "execution_count": 33,
   "metadata": {
    "tags": []
   },
   "outputs": [
    {
     "name": "stdout",
     "output_type": "stream",
     "text": [
      "\n",
      "accuracy score:87.500000\n",
      "recall score:91.666667\n",
      "roc score:87.500000\n"
     ]
    }
   ],
   "source": [
    "from sklearn.metrics import accuracy_score,recall_score,roc_auc_score,confusion_matrix\n",
    "print(\"\\naccuracy score:%f\"%(accuracy_score(y_test,y_pred)*100))\n",
    "print(\"recall score:%f\"%(recall_score(y_test,y_pred)*100))\n",
    "print(\"roc score:%f\"%(roc_auc_score(y_test,y_pred)*100))"
   ]
  },
  {
   "cell_type": "markdown",
   "metadata": {},
   "source": [
    "# 5. Enseble Learning"
   ]
  },
  {
   "cell_type": "code",
   "execution_count": 34,
   "metadata": {},
   "outputs": [],
   "source": [
    "from sklearn.ensemble import VotingClassifier\n",
    "from sklearn.ensemble import RandomForestClassifier\n",
    "from sklearn.linear_model import LogisticRegression\n",
    "from sklearn.neighbors import KNeighborsClassifier\n",
    "\n",
    "log_clf = LogisticRegression(solver=\"liblinear\", random_state=42)\n",
    "rnd_clf = RandomForestClassifier(n_estimators=10, random_state=42)\n",
    "knn_clf = KNeighborsClassifier()\n",
    "\n",
    "voting = VotingClassifier(\n",
    "    estimators=[('lr', log_clf), ('rf', rnd_clf), ('knn', knn_clf)],\n",
    "    voting='hard')"
   ]
  },
  {
   "cell_type": "code",
   "execution_count": 35,
   "metadata": {},
   "outputs": [],
   "source": [
    "voting_clf = voting.fit(x_train, y_train)"
   ]
  },
  {
   "cell_type": "code",
   "execution_count": 36,
   "metadata": {
    "tags": []
   },
   "outputs": [
    {
     "name": "stdout",
     "output_type": "stream",
     "text": [
      "LogisticRegression 0.9166666666666666\n",
      "RandomForestClassifier 0.875\n",
      "KNeighborsClassifier 0.875\n",
      "VotingClassifier 0.875\n"
     ]
    }
   ],
   "source": [
    "from sklearn.metrics import accuracy_score\n",
    "\n",
    "for clf in (log_clf, rnd_clf, knn_clf, voting_clf):\n",
    "    clf.fit(x_train, y_train)\n",
    "    y_pred = clf.predict(x_test)\n",
    "    print(clf.__class__.__name__, accuracy_score(y_test, y_pred))"
   ]
  },
  {
   "cell_type": "markdown",
   "metadata": {},
   "source": [
    "# Comparing all the prediction models"
   ]
  },
  {
   "cell_type": "code",
   "execution_count": 37,
   "metadata": {
    "tags": []
   },
   "outputs": [
    {
     "name": "stdout",
     "output_type": "stream",
     "text": [
      "  Name     Score\n",
      "0  KNN  0.875000\n",
      "1   LR  0.916667\n",
      "2   DT  0.708333\n",
      "3   RF  0.833333\n",
      "4   EL  0.875000\n"
     ]
    },
    {
     "name": "stderr",
     "output_type": "stream",
     "text": [
      "/home/vatika/miniconda3/lib/python3.8/site-packages/sklearn/linear_model/_logistic.py:458: ConvergenceWarning: lbfgs failed to converge (status=1):\n",
      "STOP: TOTAL NO. of ITERATIONS REACHED LIMIT.\n",
      "\n",
      "Increase the number of iterations (max_iter) or scale the data as shown in:\n",
      "    https://scikit-learn.org/stable/modules/preprocessing.html\n",
      "Please also refer to the documentation for alternative solver options:\n",
      "    https://scikit-learn.org/stable/modules/linear_model.html#logistic-regression\n",
      "  n_iter_i = _check_optimize_result(\n"
     ]
    }
   ],
   "source": [
    "models = []\n",
    "from sklearn.neighbors import KNeighborsClassifier\n",
    "from sklearn.linear_model import LogisticRegression\n",
    "from sklearn.tree import DecisionTreeClassifier\n",
    "from sklearn.svm import SVC\n",
    "from sklearn.ensemble import RandomForestClassifier\n",
    "from sklearn.ensemble import VotingClassifier\n",
    "models.append(('KNN', KNeighborsClassifier()))\n",
    "models.append(('LR', LogisticRegression()))\n",
    "models.append(('DT', DecisionTreeClassifier()))\n",
    "models.append(('RF', RandomForestClassifier()))\n",
    "models.append(('EL', VotingClassifier(\n",
    "    estimators=[('lr', log_clf), ('rf', rnd_clf), ('knn', knn_clf)],\n",
    "    voting='hard')))\n",
    "\n",
    "\n",
    "names = []\n",
    "scores = []\n",
    "for name, model in models:\n",
    "    model.fit(x_train, y_train)\n",
    "    y_pred = model.predict(x_test)\n",
    "    scores.append(accuracy_score(y_test, y_pred))\n",
    "    names.append(name)\n",
    "tr_split = pd.DataFrame({'Name': names, 'Score': scores})\n",
    "print(tr_split)"
   ]
  },
  {
   "cell_type": "code",
   "execution_count": 38,
   "metadata": {},
   "outputs": [
    {
     "data": {
      "image/png": "[encoded data removed]",
      "text/plain": [
       "<Figure size 640x480 with 1 Axes>"
      ]
     },
     "metadata": {},
     "output_type": "display_data"
    }
   ],
   "source": [
    "import seaborn as sns\n",
    "axis = sns.barplot(x = 'Name', y = 'Score', data =tr_split )\n",
    "axis.set(xlabel='Classifier', ylabel='Accuracy')\n",
    "for p in axis.patches:\n",
    "    height = p.get_height()\n",
    "    axis.text(p.get_x() + p.get_width()/2, height + 0.005, '{:1.4f}'.format(height), ha=\"center\") \n",
    "    \n",
    "plt.show()"
   ]
  },
  {
   "cell_type": "markdown",
   "metadata": {},
   "source": [
    "From above Logistic Regression would be the best one for flood prediction."
   ]
  }
 ],
 "metadata": {
  "kernelspec": {
   "display_name": "Python 3 (ipykernel)",
   "language": "python",
   "name": "python3"
  },
  "language_info": {
   "codemirror_mode": {
    "name": "ipython",
    "version": 3
   },
   "file_extension": ".py",
   "mimetype": "text/x-python",
   "name": "python",
   "nbconvert_exporter": "python",
   "pygments_lexer": "ipython3",
   "version": "3.8.10"
  }
 },
 "nbformat": 4,
 "nbformat_minor": 4
}
